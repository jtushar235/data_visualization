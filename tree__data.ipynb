{
  "nbformat": 4,
  "nbformat_minor": 0,
  "metadata": {
    "colab": {
      "provenance": []
    },
    "kernelspec": {
      "name": "python3",
      "display_name": "Python 3"
    },
    "language_info": {
      "name": "python"
    }
  },
  "cells": [
    {
      "cell_type": "code",
      "source": [
        "import pandas as pd\n",
        "\n",
        "correct_length = 50\n",
        "\n",
        "data = {\n",
        "    \"Sr. No.\": list(range(1, 51)),\n",
        "    \"Tree Species\": [\n",
        "        \"Sag\", \"Subabhul\", \"Supari\", \"Naral\", \"Amba\", \"Katesavar\", \"Bor\", \"Suru\", \"Sonchapha\",\n",
        "        \"Shevga\", \"Kala Umber\", \"Giripushpa\", \"Sitaphal\", \"Chinch\", \"Australian Babhul\", \"Mogali erand\",\n",
        "        \"Tad\", \"Kharoti\", \"Pandhara Khair\", \"Khaya\", \"Bhend\", \"Dhaman\", \"Asupalav (D)\", \"Kaduneem\",\n",
        "        \"Asana\", \"Chiku\", \"Rai Avla\", \"Pimpal\", \"Jungli badam\", \"Gulmohar\", \"Parijatak\", \"Rain tree\",\n",
        "        \"Saptparni\", \"Papanas\", \"Christmas tree\", \"Dalimb\", \"Vad\", \"Pichkari\", \"Umbrella tree\", \"Kokam\",\n",
        "        \"Anjir\", \"Avocado\", \"Dev Babhul\", \"Peru\", \"Jambhul\", \"Kadipatta\", \"Karanj\", \"Sonchapha (another variety)\",\n",
        "        \"Bor (another variety)\", \"Ramphal\"\n",
        "    ],\n",
        "    \"Tree Species (English)\": [\n",
        "        \"Sago Palm\", \"Subabhul\", \"Betel Nut Palm\", \"Coconut\", \"Mango\", \"Catechu Tree\", \"Jujube\", \"Indian Lilac\", \"Sonchafa\",\n",
        "        \"Indian Gooseberry\", \"Black Tamarind\", \"Graptophyllum\", \"Custard Apple\", \"Tamarind\", \"Australian Acacia\", \"Castor Bean\",\n",
        "        \"Indian Fig\", \"Khair\", \"Khaya\", \"Indian Pennywort\", \"Wattakaka\", \"Dhaman\", \"Asupalav\", \"Neem\",\n",
        "        \"Asana\", \"Chiku\", \"Amla\", \"Banyan\", \"Wild Almond\", \"Flame Tree\", \"Frangipani\", \"Rain Tree\",\n",
        "        \"Saptaparna\", \"Papanas\", \"Christmas Tree\", \"Pomegranate\", \"Banyan\", \"Gourd Tree\", \"Umbrella Tree\", \"Garcinia\",\n",
        "        \"Fig\", \"Avocado\", \"Babbul Tree\", \"Guava\", \"Indian Blackberry\", \"Curry Leaf\", \"Karanj\", \"Sonchafa (another variety)\",\n",
        "        \"Jujube (another variety)\", \"Ramphal\"\n",
        "    ],\n",
        "    \"Total Tree Count\": [\n",
        "        1497, 1510, 1292, 1246, 2111, 2621, 1819, 7913, 9448, 2417, 5288, 3345, 1503, 52796, 515, 9491,\n",
        "        570, 7897, 1533, 1317, 1371, 1168, 1500, 1085, 1118, 872, 1238, 1086, 1292, 1359, 1680, 1961, 1381,\n",
        "        446, 497, 1165, 3495, 3238, 470, 1391, 862, 1242, 1376, 487, 3068, 1218, 1135, 605, 551, 514\n",
        "    ],\n",
        "    \"Carbon Sequestration Rate (kg CO2/tree/year)\": [\n",
        "        400, 350, 250, 450, 300, 420, 320, 280, 380, 300, 360, 340, 260, 370, 300, 290, 350, 270, 320, 330,\n",
        "        280, 300, 290, 270, 310, 300, 290, 360, 300, 320, 400, 350, 360, 320, 350, 280, 390, 310, 320, 300, 340,\n",
        "        310, 300, 320, 350, 300, 330, 300, 260, 370\n",
        "    ],\n",
        "    \"Planting Cost per Tree (USD)\": [\n",
        "        10, 8, 6, 12, 8, 9, 7, 5, 10, 8, 9, 8, 7, 6, 7, 5, 6, 5, 7, 8,\n",
        "        7, 6, 7, 6, 8, 6, 7, 8, 7, 8, 10, 9, 8, 7, 8, 9, 8, 7, 7, 8, 9,\n",
        "        7, 6, 8, 7, 6, 7, 7, 7, 7\n",
        "    ],\n",
        "    \"Planting Cost per Tree (INR)\": [\n",
        "        835.5, 668.4, 501.3, 1002.6, 668.4, 751.95, 584.85, 417.75, 835.5, 668.4, 751.95, 668.4, 584.85, 501.3,\n",
        "        584.85, 417.75, 501.3, 417.75, 584.85, 668.4, 584.85, 501.3, 584.85, 501.3, 668.4, 501.3, 584.85, 668.4,\n",
        "        584.85, 668.4, 835.5, 751.95, 668.4, 584.85, 668.4, 751.95, 668.4, 584.85, 584.85, 668.4, 751.95, 584.85,\n",
        "        501.3, 668.4, 584.85, 501.3, 584.85, 584.85, 584.85, 584.85\n",
        "    ]\n",
        "}\n",
        "\n",
        "# Ensure all lists have the same length by padding with None or trimming\n",
        "for key in data.keys():\n",
        "    if len(data[key]) < correct_length:\n",
        "        # Extend lists that are shorter\n",
        "        data[key] += [None] * (correct_length - len(data[key]))\n",
        "    elif len(data[key]) > correct_length:\n",
        "        # Trim lists that are longer\n",
        "        data[key] = data[key][:correct_length]\n",
        "\n",
        "# Calculate Total Carbon Sequestration and Total Planting Cost\n",
        "total_carbon_sequestration = [\n",
        "    count * rate if count is not None and rate is not None else None\n",
        "    for count, rate in zip(data[\"Total Tree Count\"], data[\"Carbon Sequestration Rate (kg CO2/tree/year)\"])\n",
        "]\n",
        "\n",
        "total_planting_cost_usd = [\n",
        "    count * cost if count is not None and cost is not None else None\n",
        "    for count, cost in zip(data[\"Total Tree Count\"], data[\"Planting Cost per Tree (USD)\"])\n",
        "]\n",
        "\n",
        "total_planting_cost_inr = [\n",
        "    cost * 83.55 if cost is not None else None\n",
        "    for cost in total_planting_cost_usd\n",
        "]\n",
        "\n",
        "# Add calculated values to the data\n",
        "data[\"Total Carbon Sequestration (kg CO2/year)\"] = total_carbon_sequestration\n",
        "data[\"Total Planting Cost (USD)\"] = total_planting_cost_usd\n",
        "data[\"Total Planting Cost (INR)\"] = total_planting_cost_inr\n",
        "\n",
        "# Create DataFrame\n",
        "df = pd.DataFrame(data)\n",
        "\n",
        "# Save to Excel\n",
        "excel_file = 'Tree_Planting_Data_with_English_Names.xlsx'\n",
        "df.to_excel(excel_file, index=False)\n",
        "\n",
        "print(f\"Excel file '{excel_file}' has been created successfully.\")\n"
      ],
      "metadata": {
        "colab": {
          "base_uri": "https://localhost:8080/"
        },
        "id": "IPLEoTS9ZtY9",
        "outputId": "4df50ff1-ef3a-45ba-984b-8b1257c46095"
      },
      "execution_count": null,
      "outputs": [
        {
          "output_type": "stream",
          "name": "stdout",
          "text": [
            "Excel file 'Tree_Planting_Data_with_English_Names.xlsx' has been created successfully.\n"
          ]
        }
      ]
    },
    {
      "cell_type": "code",
      "source": [
        "import pandas as pd\n",
        "\n",
        "# Data for the table\n",
        "data = {\n",
        "    \"Sr. No.\": range(1, 51),\n",
        "    \"Name of Trees\": [\n",
        "        \"Sag\", \"Subabhul\", \"Supari\", \"Naral\", \"Amba\", \"Katesavar\", \"Bor\", \"Suru\", \"Sonchapha\", \"Shevga\",\n",
        "        \"Kala Umber\", \"Giripushpa\", \"Sitaphal\", \"Chinch\", \"Australian Babhul\", \"Mogali erand\", \"Tad\", \"Kharoti\",\n",
        "        \"Pandhara Khair\", \"Khaya\", \"Bhend\", \"Dhaman\", \"Asupalav (D)\", \"Kaduneem\", \"Asana\", \"Chiku\", \"Rai Avla\",\n",
        "        \"Pimpal\", \"Jungli badam\", \"Gulmohar\", \"Parijatak\", \"Rain tree\", \"Saptparni\", \"Papanas\", \"Christmas tree\",\n",
        "        \"Dalimb\", \"Vad\", \"Pichkari\", \"Umbrella tree\", \"Kokam\", \"Anjir\", \"Avocado\", \"Dev Babhul\", \"Peru\", \"Jambhul\",\n",
        "        \"Kadipatta\", \"Karanj\", \"Sonchapha\", \"Bor\", \"Ramphal\"\n",
        "    ],\n",
        "    \"Government\": [\n",
        "        410, 1230, 325, 210, 1200, 1225, 310, 250, 2252, 2105, 4251, 3108, 175, 29710, 210, 320, 320, 225, 310, 260,\n",
        "        230, 310, 720, 190, 210, 120, 175, 810, 210, 225, 450, 650, 210, 225, 210, 190, 2500, 2200, 210, 225, 552, 1010,\n",
        "        320, 210, 2022, 230, 710, 320, 260, 210\n",
        "    ],\n",
        "    \"Industry\": [\n",
        "        63, 61, 63, 75, 55, 70, 75, 65, 85, 110, 50, 52, 62, 7575, 120, 95, 75, 63, 250, 56, 95, 110, 80, 52, 60, 50,\n",
        "        45, 41, 40, 65, 150, 90, 65, 45, 47, 89, 60, 65, 60, 75, 60, 57, 55, 62, 52, 110, 50, 61, 62, 0\n",
        "    ],\n",
        "    \"Park\": [\n",
        "        95, 99, 96, 110, 105, 75, 82, 77, 90, 82, 82, 75, 65, 8990, 75, 55, 65, 45, 52, 95, 95, 96, 97, 92, 90, 101, 110,\n",
        "        125, 120, 110, 92, 120, 145, 75, 120, 135, 84, 71, 90, 100, 145, 75, 90, 110, 92, 135, 210, 125, 110, 105\n",
        "    ],\n",
        "    \"Roadside\": [\n",
        "        929, 120, 808, 851, 751, 1251, 1352, 7521, 7021, 120, 905, 110, 1201, 6521, 110, 9021, 110, 7564, 921, 906, 951,\n",
        "        652, 603, 751, 758, 601, 908, 110, 922, 959, 988, 1101, 961, 101, 120, 751, 851, 902, 110, 991, 105, 100, 911,\n",
        "        105, 902, 801, 105, 110, 120, 137\n",
        "    ],\n",
        "    \"Grand Total\": [\n",
        "        1497, 1510, 1292, 1246, 2111, 2621, 1819, 7913, 9448, 2417, 5288, 3345, 1503, 52796, 515, 9491, 570, 7897, 1533,\n",
        "        1317, 1371, 1168, 1500, 1085, 1118, 872, 1238, 1086, 1292, 1359, 1680, 1961, 1381, 446, 497, 1165, 3495, 3238, 470,\n",
        "        1391, 862, 1242, 1376, 487, 3068, 1218, 1135, 605, 551, 514\n",
        "    ]\n",
        "}\n",
        "\n",
        "# Create DataFrame\n",
        "df = pd.DataFrame(data)\n",
        "\n",
        "# Save to Excel\n",
        "output_path = 'tree_counts.xlsx'\n",
        "df.to_excel(output_path, index=False)\n",
        "\n",
        "print(f\"Data has been saved to {output_path}\")\n"
      ],
      "metadata": {
        "id": "l0j8EejvDCAx",
        "colab": {
          "base_uri": "https://localhost:8080/"
        },
        "outputId": "e0b4d9f1-1847-4e1d-e5fe-2ae9fbcb7bfd"
      },
      "execution_count": null,
      "outputs": [
        {
          "output_type": "stream",
          "name": "stdout",
          "text": [
            "Data has been saved to tree_counts.xlsx\n"
          ]
        }
      ]
    }
  ]
}